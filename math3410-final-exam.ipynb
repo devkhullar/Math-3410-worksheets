{
 "cells": [
  {
   "cell_type": "markdown",
   "id": "346634dd-b539-4d13-9abc-4f131a3d03dd",
   "metadata": {},
   "source": [
    "### Exam Prep"
   ]
  },
  {
   "cell_type": "code",
   "execution_count": 2,
   "id": "6d4f8576-a417-44d8-b25b-ad8590f252aa",
   "metadata": {},
   "outputs": [],
   "source": [
    "from sympy import init_printing, Matrix "
   ]
  },
  {
   "cell_type": "code",
   "execution_count": 3,
   "id": "a0dea986-7a77-4672-aff6-dad624734851",
   "metadata": {},
   "outputs": [
    {
     "data": {
      "text/latex": [
       "$\\displaystyle \\left[\\begin{matrix}\\frac{1}{13} & \\frac{3}{13}\\\\\\frac{4}{13} & - \\frac{1}{13}\\end{matrix}\\right]$"
      ],
      "text/plain": [
       "Matrix([\n",
       "[1/13,  3/13],\n",
       "[4/13, -1/13]])"
      ]
     },
     "execution_count": 3,
     "metadata": {},
     "output_type": "execute_result"
    }
   ],
   "source": [
    "P = Matrix(2,2,[1,3,4,-1])\n",
    "P.inv()"
   ]
  },
  {
   "cell_type": "markdown",
   "id": "eac13c13-a224-44dc-a9c7-2aea202b1916",
   "metadata": {},
   "source": [
    "#### Question 3, Hw 10"
   ]
  },
  {
   "cell_type": "code",
   "execution_count": 4,
   "id": "c9546342-d265-42ee-8dbe-f2423805f14a",
   "metadata": {},
   "outputs": [
    {
     "data": {
      "text/latex": [
       "$\\displaystyle \\left[\\begin{matrix}0 & 1 & -2 & -6\\\\0 & 1 & 2 & -9\\\\0 & -1 & 0 & 6\\end{matrix}\\right]$"
      ],
      "text/plain": [
       "Matrix([\n",
       "[0,  1, -2, -6],\n",
       "[0,  1,  2, -9],\n",
       "[0, -1,  0,  6]])"
      ]
     },
     "execution_count": 4,
     "metadata": {},
     "output_type": "execute_result"
    }
   ],
   "source": [
    "# Question 3 Hw 10\n",
    "P = Matrix(3, 4, [0, 1, 0, 0, 0, 0, 2, 0, 0, 0, 0, 3])\n",
    "Q = Matrix(3, 3, [-2, -2, -5, -1, 0, -1, -1, -1, -2])\n",
    "\n",
    "Q**(-1)*P"
   ]
  },
  {
   "cell_type": "markdown",
   "id": "26e87d70-ac73-4bb5-bdc3-73f7d2339a5b",
   "metadata": {},
   "source": [
    "#### Question 8, Hw 10"
   ]
  },
  {
   "cell_type": "code",
   "execution_count": 6,
   "id": "5acdc7c3-3360-4eaa-b31a-0f0556c0228e",
   "metadata": {},
   "outputs": [
    {
     "data": {
      "text/latex": [
       "$\\displaystyle \\left[\\begin{matrix}10 & -1\\\\16 & -1\\end{matrix}\\right]$"
      ],
      "text/plain": [
       "Matrix([\n",
       "[10, -1],\n",
       "[16, -1]])"
      ]
     },
     "execution_count": 6,
     "metadata": {},
     "output_type": "execute_result"
    }
   ],
   "source": [
    "# Question 8 Hw 10\n",
    "P = Matrix(2, 2, [-1, -1, -1, -2])\n",
    "Q = Matrix(2, 2, [3, 2, 6, 6])\n",
    "M = Matrix(2, 2, [3, 2, 6, 6])\n",
    "\n",
    "P*M*P**(-1)"
   ]
  },
  {
   "cell_type": "markdown",
   "id": "522fc495-2785-4f75-9ee6-3ca2635f699f",
   "metadata": {},
   "source": [
    "#### Question 9, Hw 10"
   ]
  },
  {
   "cell_type": "code",
   "execution_count": 28,
   "id": "ae4b0b5c-f249-48b5-90a1-e6228d249a1b",
   "metadata": {},
   "outputs": [
    {
     "data": {
      "text/latex": [
       "$\\displaystyle \\left[\\begin{matrix}-4 & 9\\\\-3 & 7\\end{matrix}\\right]$"
      ],
      "text/plain": [
       "Matrix([\n",
       "[-4, 9],\n",
       "[-3, 7]])"
      ]
     },
     "execution_count": 28,
     "metadata": {},
     "output_type": "execute_result"
    }
   ],
   "source": [
    "# Part a\n",
    "A = Matrix(2, 2, [-1, 2, -1, 3])\n",
    "B = Matrix(2, 2, [5, -11, -1, 6])\n",
    "A.inv()*B\n",
    "\n",
    "# Part b\n",
    "A1 = Matrix(2, 2, [1, -1, -2, 3])\n",
    "B1 = Matrix(2, 2, [-2, 1, -11, 15])\n",
    "\n",
    "A1**(-1)*B1\n",
    "\n",
    "# Part c, the change matrix\n",
    "X = B.inv()*B1\n",
    "\n",
    "# Part d\n",
    "X.inv()"
   ]
  },
  {
   "cell_type": "code",
   "execution_count": null,
   "id": "59db0107-662d-41e4-9c2c-b40e2f8b4aa2",
   "metadata": {},
   "outputs": [],
   "source": []
  }
 ],
 "metadata": {
  "kernelspec": {
   "display_name": "anaconda-ai-2024.04-py310",
   "language": "python",
   "name": "conda-env-anaconda-ai-2024.04-py310-py"
  },
  "language_info": {
   "codemirror_mode": {
    "name": "ipython",
    "version": 3
   },
   "file_extension": ".py",
   "mimetype": "text/x-python",
   "name": "python",
   "nbconvert_exporter": "python",
   "pygments_lexer": "ipython3",
   "version": "3.10.13"
  }
 },
 "nbformat": 4,
 "nbformat_minor": 5
}
