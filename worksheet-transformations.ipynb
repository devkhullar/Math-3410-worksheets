{
 "cells": [
  {
   "cell_type": "markdown",
   "metadata": {},
   "source": [
    "## Worksheet: matrix transformations"
   ]
  },
  {
   "cell_type": "markdown",
   "metadata": {},
   "source": [
    "This worksheet deals with matrix transformations, and in particular, kernel and image. The goal is to understand these important subspaces in a familiar context.\n",
    "\n",
    "Let $A$ be an $m\\times n$ matrix. We can use $A$ to define a transformation $T_A:\\mathbb{R}^n\\to \\mathbb{R}^m$ given by $T_A(\\mathbf{x})=A\\mathbf{x}\\text{,}$ where we view $\\mathbf{x}$ as an $n\\times 1$ column vector.\n",
    "\n",
    "The **kernel** of $T_A$ is the set of vectors $\\mathbf{x}$ such that $T_A(\\mathbf{x})=\\mathbb{0}\\text{.}$ That is, $\\ker T_A$ is the set of solutions to the homogeneous system $A\\mathbf{x} = \\mathbb{0}\\text{.}$\n",
    "\n",
    "The **image** of $T_A$ (also known as the range of $T_A$) is the set of vectors $\\mathbb{y}\\in \\mathbb{R}^m$ such that $\\mathbb{y} = A\\mathbf{x}$ for some $\\mathbf{x}\\in\\mathbb{R}^n\\text{.}$ In other words, $\\operatorname{im}(T_A)$ is the set of vectors $\\mathbb{y}$ for which the non-homogeneous system $A\\mathbf{x}=\\mathbb{y}$ is consistent.\n",
    "\n",
    "Because $T_A$ is a linear transformation, we can compute it as long as we're given its values on a basis. If $\\{\\mathbf{v}_1, \\mathbf{v}_2,\\ldots, \\mathbf{v}_n\\}$ is a basis for $\\mathbb{R}^n\\text{,}$ then for any $\\mathbf{x}\\in\\mathbb{R}^n$ there exist unique scalars $c_1,c_2,\\ldots, c_n$ such that\n",
    "$$\n",
    "\\mathbf{x} = c_1\\mathbf{v}_1+c_2\\mathbf{v}_2+\\cdots + c_n\\mathbf{v}_n\\text{,}\n",
    "$$\n",
    "\n",
    "and since $T_A$ is linear, we have\n",
    "$$\n",
    "T_A(\\mathbf{x})=c_1T_A(\\mathbf{v}_1)+c_2T_A(\\mathbf{v}_2)+\\cdots +c_nT_A(\\mathbf{v}_n)\\text{.}\n",
    "$$\n",
    "\n",
    "The main challenge, computationally speaking, is that if our basis is not the standard basis, some effort will be required to write $\\mathbf{x}$ in terms of the given basis."
   ]
  },
  {
   "cell_type": "markdown",
   "metadata": {},
   "source": [
    "## 1.\n",
    "Confirm that\n",
    "$$\n",
    "B=\\left\\{\\begin{bmatrix}1\\\\0\\\\2\\\\3\\end{bmatrix},\\begin{bmatrix}4\\\\2\\\\0\\\\-3\\end{bmatrix},\n",
    "\\begin{bmatrix}0\\\\4\\\\-3\\\\2\\end{bmatrix}, \\begin{bmatrix}3\\\\5\\\\-2\\\\1\\end{bmatrix}\\right\\}\n",
    "$$\n",
    "\n",
    "is a basis for $\\mathbb{R}^4\\text{.}$"
   ]
  },
  {
   "cell_type": "markdown",
   "metadata": {},
   "source": [
    "To assist with solving this problem, a code cell is provided below. Recall that you can enter the matrix $\\begin{bmatrix}a& b& c\\\\d& e& f\\\\g& h& i\\end{bmatrix}$ as `Matrix([[a,b,c],[d,e,f],[g,h,i]])` or as `Matrix(3,3,[a,b,c,d,e,f,g,h,i])`."
   ]
  },
  {
   "cell_type": "markdown",
   "metadata": {},
   "source": [
    "The reduced row-echeleon form of `A` is given by `A.rref()`. The product of matrices `A` and `B` is simply `A*B`. The inverse of a matrix `A` can be found using `A.inv()` or simply `A**(-1)`."
   ]
  },
  {
   "cell_type": "markdown",
   "metadata": {},
   "source": [
    "One note of caution: in the HTML worksheet, if you don't import `sympy` as your first line of code, you'll instead use Sage syntax. Sage uses `A.inverse()` instead of `A.inv()`."
   ]
  },
  {
   "cell_type": "markdown",
   "metadata": {},
   "source": [
    "In a Jupyter notebook, remember you can generate additional code cells by clicking on the `+` button."
   ]
  },
  {
   "cell_type": "code",
   "execution_count": 2,
   "metadata": {},
   "outputs": [
    {
     "data": {
      "image/png": "[encoded data removed]",
      "text/latex": [
       "$\\displaystyle \\left( \\left( \\left[\\begin{matrix}1 & 0 & 0 & 0\\\\0 & 1 & 0 & 0\\\\0 & 0 & 1 & 0\\\\0 & 0 & 0 & 1\\end{matrix}\\right], \\  \\left( 0, \\  1, \\  2, \\  3\\right)\\right), \\  \\left[\\begin{matrix}19 & -23 & -24 & 10\\\\33 & -40 & -42 & 17\\\\46 & -56 & -59 & 24\\\\-50 & 61 & 64 & -26\\end{matrix}\\right]\\right)$"
      ],
      "text/plain": [
       "⎛⎛⎡1  0  0  0⎤              ⎞  ⎡19   -23  -24  10 ⎤⎞\n",
       "⎜⎜⎢          ⎥              ⎟  ⎢                  ⎥⎟\n",
       "⎜⎜⎢0  1  0  0⎥              ⎟  ⎢33   -40  -42  17 ⎥⎟\n",
       "⎜⎜⎢          ⎥, (0, 1, 2, 3)⎟, ⎢                  ⎥⎟\n",
       "⎜⎜⎢0  0  1  0⎥              ⎟  ⎢46   -56  -59  24 ⎥⎟\n",
       "⎜⎜⎢          ⎥              ⎟  ⎢                  ⎥⎟\n",
       "⎝⎝⎣0  0  0  1⎦              ⎠  ⎣-50  61   64   -26⎦⎠"
      ]
     },
     "execution_count": 2,
     "metadata": {},
     "output_type": "execute_result"
    }
   ],
   "source": [
    "from sympy import Matrix,init_printing\n",
    "init_printing()\n",
    "B = Matrix(4,4, [1,4,0,3,0,2,4,5,2,0,-3,-2, 3,-3,2,1])\n",
    "B.rref(), B.inv()"
   ]
  },
  {
   "cell_type": "markdown",
   "metadata": {},
   "source": [
    "You can also use the cell below to write down any necessary explanation. If you want to use mathematical notation, wrap your math in `$` delimiters. A vector can be written as `\\vec{v}` (if you want to get the little arrow on top). Matrices are a bit annoying to enter: the syntax looks like `$A=\\begin{bmatrix} a & b\\\\ c & d\\end{bmatrix}$`, which creates $A=\\begin{bmatrix} a & b\\\\ c & d\\end{bmatrix}$. You can also create a matrix by using Sympy syntax in a code cell."
   ]
  },
  {
   "cell_type": "markdown",
   "metadata": {},
   "source": [
    "Since the rref form of matrix $\\mathbf{B}$ has leading ones in all the columns, it forms the basis of $\\mathbb{R}^4$"
   ]
  },
  {
   "cell_type": "markdown",
   "metadata": {},
   "source": [
    "## 2.\n",
    "Write each of the standard basis vectors in terms of this basis.\n",
    "\n",
    "*Suggestion:* in each case, this can be done by solving a matrix equation, using the inverse of an appropriate matrix.\n",
    "\n",
    "Use the text cell below to explain how to set things up, and then the code cell below it to run any necessary computations."
   ]
  },
  {
   "cell_type": "code",
   "execution_count": 3,
   "metadata": {},
   "outputs": [
    {
     "data": {
      "image/png": "[encoded data removed]",
      "text/latex": [
       "$\\displaystyle \\left( \\left[\\begin{matrix}1\\\\0\\\\0\\\\0\\end{matrix}\\right], \\  \\left[\\begin{matrix}0\\\\1\\\\0\\\\0\\end{matrix}\\right], \\  \\left[\\begin{matrix}0\\\\0\\\\1\\\\0\\end{matrix}\\right], \\  \\left[\\begin{matrix}0\\\\0\\\\0\\\\1\\end{matrix}\\right]\\right)$"
      ],
      "text/plain": [
       "⎛⎡1⎤  ⎡0⎤  ⎡0⎤  ⎡0⎤⎞\n",
       "⎜⎢ ⎥  ⎢ ⎥  ⎢ ⎥  ⎢ ⎥⎟\n",
       "⎜⎢0⎥  ⎢1⎥  ⎢0⎥  ⎢0⎥⎟\n",
       "⎜⎢ ⎥, ⎢ ⎥, ⎢ ⎥, ⎢ ⎥⎟\n",
       "⎜⎢0⎥  ⎢0⎥  ⎢1⎥  ⎢0⎥⎟\n",
       "⎜⎢ ⎥  ⎢ ⎥  ⎢ ⎥  ⎢ ⎥⎟\n",
       "⎝⎣0⎦  ⎣0⎦  ⎣0⎦  ⎣1⎦⎠"
      ]
     },
     "execution_count": 3,
     "metadata": {},
     "output_type": "execute_result"
    }
   ],
   "source": [
    "v1 = Matrix([1,0,2,3])\n",
    "v2 = Matrix([4,2,0,-3])\n",
    "v3 = Matrix([0,4,-3,2])\n",
    "v4 = Matrix([3,5,-2,1])\n",
    "e1 = 19 * v1 + 33 *v2 + 46 * v3 - 50 * v4\n",
    "e2 = -23 * v1 -40* v2 -56*v3 +61*v4\n",
    "e3 = -24*v1 -42*v2 -59*v3 + 64*v4\n",
    "e4 = 10*v1 + 17*v2 +24*v3 -26*v4\n",
    "e1, e2, e3, e4"
   ]
  },
  {
   "cell_type": "markdown",
   "metadata": {
    "hidden": false
   },
   "source": [
    "Each of the standard basis vectors is written in terms of this basis by multiplying the coefficients of each column of the inverse matrix with the column vectors of the B matrix."
   ]
  },
  {
   "cell_type": "markdown",
   "metadata": {},
   "source": [
    "### A linear transformation $T:\\mathbb{R}^4\\to \\mathbb{R}^4$ is now defined as follows:\n",
    "$$\n",
    "T\\left(\\begin{bmatrix}1\\\\0\\\\2\\\\3\\end{bmatrix}\\right)=\\begin{bmatrix}3\\\\0\\\\2\\\\-1\\end{bmatrix},\n",
    "T\\left(\\begin{bmatrix}4\\\\2\\\\0\\\\-3\\end{bmatrix}\\right)=\\begin{bmatrix}1\\\\2\\\\0\\\\5\\end{bmatrix},\n",
    "T\\left(\\begin{bmatrix}0\\\\4\\\\-3\\\\2\\end{bmatrix}\\right)=\\begin{bmatrix}4\\\\2\\\\2\\\\4\\end{bmatrix},\n",
    "T\\left(\\begin{bmatrix}3\\\\5\\\\-2\\\\1\\end{bmatrix}\\right)=\\begin{bmatrix}2\\\\4\\\\0\\\\10\\end{bmatrix}\\text{.}\n",
    "$$"
   ]
  },
  {
   "cell_type": "markdown",
   "metadata": {},
   "source": [
    "Let $\\{\\mathbf{e}_1,\\mathbf{e}_2,\\mathbf{e}_3, \\mathbf{e}_4\\}$ denote the standard basis for $\\mathbb{R}^4\\text{.}$"
   ]
  },
  {
   "cell_type": "markdown",
   "metadata": {},
   "source": [
    "## 3.\n",
    "Determine $T(\\mathbf{e}_i)$ for $i=1,2,3,4\\text{,}$ and in so doing, determine the matrix $A$ such that $T=T_A\\text{.}$"
   ]
  },
  {
   "cell_type": "code",
   "execution_count": 4,
   "metadata": {},
   "outputs": [
    {
     "data": {
      "image/png": "[encoded data removed]",
      "text/latex": [
       "$\\displaystyle \\left( \\left[\\begin{matrix}174\\\\-42\\\\130\\\\-170\\end{matrix}\\right], \\  \\left[\\begin{matrix}-211\\\\52\\\\-158\\\\209\\end{matrix}\\right], \\  \\left[\\begin{matrix}-222\\\\54\\\\-166\\\\218\\end{matrix}\\right], \\  \\left[\\begin{matrix}91\\\\-22\\\\68\\\\-89\\end{matrix}\\right]\\right)$"
      ],
      "text/plain": [
       "⎛⎡174 ⎤  ⎡-211⎤  ⎡-222⎤  ⎡91 ⎤⎞\n",
       "⎜⎢    ⎥  ⎢    ⎥  ⎢    ⎥  ⎢   ⎥⎟\n",
       "⎜⎢-42 ⎥  ⎢ 52 ⎥  ⎢ 54 ⎥  ⎢-22⎥⎟\n",
       "⎜⎢    ⎥, ⎢    ⎥, ⎢    ⎥, ⎢   ⎥⎟\n",
       "⎜⎢130 ⎥  ⎢-158⎥  ⎢-166⎥  ⎢68 ⎥⎟\n",
       "⎜⎢    ⎥  ⎢    ⎥  ⎢    ⎥  ⎢   ⎥⎟\n",
       "⎝⎣-170⎦  ⎣209 ⎦  ⎣218 ⎦  ⎣-89⎦⎠"
      ]
     },
     "execution_count": 4,
     "metadata": {},
     "output_type": "execute_result"
    }
   ],
   "source": [
    "Tv1 = Matrix([3,0,2,-1])\n",
    "Tv2 = Matrix([1,2,0,5])\n",
    "Tv3 = Matrix([4,2,2,4])\n",
    "Tv4 = Matrix([2,4,0,10])\n",
    "Te1 = 19*Tv1 + 33*Tv2 +46*Tv3 -50*Tv4\n",
    "Te2 = -23*Tv1 -40*Tv2 -56*Tv3 +61*Tv4\n",
    "Te3 = -24*Tv1 -42*Tv2 -59*Tv3 +64*Tv4\n",
    "Te4 = 10*Tv1 + 17*Tv2 + 24*Tv3 -26*Tv4\n",
    "Te1, Te2, Te3, Te4"
   ]
  },
  {
   "cell_type": "markdown",
   "metadata": {
    "hidden": false
   },
   "source": [
    "T(ei) for $i = 1,2,3,4$ can be found by the linear combination of the column vectors of the B inverse matrix and vi for i = 1,2,3,4"
   ]
  },
  {
   "cell_type": "markdown",
   "metadata": {},
   "source": [
    "## 4.\n",
    "Let $M$ be the matrix whose columns are given by the values of $T$ on the basis $B\\text{.}$ (This would be the matrix of $T$ if $B$ was actually the standard basis.) Let $N$ be the matrix whose inverse you used to solve part (b). Can you find a way to combine these matrices to obtain the matrix $A\\text{?}$ If so, explain why your result makes sense."
   ]
  },
  {
   "cell_type": "code",
   "execution_count": 5,
   "metadata": {},
   "outputs": [
    {
     "data": {
      "image/png": "[encoded data removed]",
      "text/latex": [
       "$\\displaystyle \\left( \\left[\\begin{matrix}174 & -211 & -222 & 91\\\\-42 & 52 & 54 & -22\\\\130 & -158 & -166 & 68\\\\-170 & 209 & 218 & -89\\end{matrix}\\right], \\  \\left( \\left[\\begin{matrix}1 & 0 & - \\frac{25}{31} & \\frac{15}{31}\\\\0 & 1 & \\frac{12}{31} & - \\frac{1}{31}\\\\0 & 0 & 0 & 0\\\\0 & 0 & 0 & 0\\end{matrix}\\right], \\  \\left( 0, \\  1\\right)\\right)\\right)$"
      ],
      "text/plain": [
       "⎛                         ⎛⎡      -25    15  ⎤        ⎞⎞\n",
       "⎜                         ⎜⎢1  0  ────   ──  ⎥        ⎟⎟\n",
       "⎜⎡174   -211  -222  91 ⎤  ⎜⎢       31    31  ⎥        ⎟⎟\n",
       "⎜⎢                     ⎥  ⎜⎢                 ⎥        ⎟⎟\n",
       "⎜⎢-42    52    54   -22⎥  ⎜⎢       12        ⎥        ⎟⎟\n",
       "⎜⎢                     ⎥, ⎜⎢0  1   ──   -1/31⎥, (0, 1)⎟⎟\n",
       "⎜⎢130   -158  -166  68 ⎥  ⎜⎢       31        ⎥        ⎟⎟\n",
       "⎜⎢                     ⎥  ⎜⎢                 ⎥        ⎟⎟\n",
       "⎜⎣-170  209   218   -89⎦  ⎜⎢0  0   0      0  ⎥        ⎟⎟\n",
       "⎜                         ⎜⎢                 ⎥        ⎟⎟\n",
       "⎝                         ⎝⎣0  0   0      0  ⎦        ⎠⎠"
      ]
     },
     "execution_count": 5,
     "metadata": {},
     "output_type": "execute_result"
    }
   ],
   "source": [
    "M = Matrix(4,4,[3,1,4,2,0,2,2,4,2,0,2,0,-1,5,4,10])\n",
    "M\n",
    "B\n",
    "A = M*B**(-1)\n",
    "A, A.rref()"
   ]
  },
  {
   "cell_type": "markdown",
   "metadata": {
    "hidden": false
   },
   "source": [
    "Our results make sense because $AB = M \\implies A = M \\cdot B^{-1}$"
   ]
  },
  {
   "cell_type": "markdown",
   "metadata": {},
   "source": [
    "Next we will compute the kernel and image of the transformation from the previous exercises. Recall that when solving a homogeneous system $A\\mathbf{x} = \\mathbb{0}\\text{,}$ we find the RREF of $A\\text{,}$ and any variables whose columns do not contain a leading 1 are assigned as parameters. We then express the general solution $x$ in terms of those parameters."
   ]
  },
  {
   "cell_type": "markdown",
   "metadata": {},
   "source": [
    "The image of a matrix transformation $T_A$ is also known as the **column space** of $A\\text{,}$ because the range of $T_A$ is precisely the span of the columns of $A\\text{.}$ The RREF of $A$ tells us which columns to keep: the columns of $A$ that correspond to the columns in the RREF of $A$ with a leading 1."
   ]
  },
  {
   "cell_type": "markdown",
   "metadata": {},
   "source": [
    "Let $T$ be the linear transformation given in the previous exercises."
   ]
  },
  {
   "cell_type": "markdown",
   "metadata": {},
   "source": [
    "## 5.\n",
    "Determine the kernel of $T\\text{.}$"
   ]
  },
  {
   "cell_type": "code",
   "execution_count": 10,
   "metadata": {},
   "outputs": [
    {
     "data": {
      "image/png": "[encoded data removed]",
      "text/latex": [
       "$\\displaystyle \\left( \\left[ \\left[\\begin{matrix}\\frac{25}{31}\\\\- \\frac{12}{31}\\\\1\\\\0\\end{matrix}\\right], \\  \\left[\\begin{matrix}- \\frac{15}{31}\\\\\\frac{1}{31}\\\\0\\\\1\\end{matrix}\\right]\\right],\\right)$"
      ],
      "text/plain": [
       "⎛⎡⎡ 25 ⎤        ⎤ ⎞\n",
       "⎜⎢⎢ ── ⎥  ⎡-15 ⎤⎥ ⎟\n",
       "⎜⎢⎢ 31 ⎥  ⎢────⎥⎥ ⎟\n",
       "⎜⎢⎢    ⎥  ⎢ 31 ⎥⎥ ⎟\n",
       "⎜⎢⎢-12 ⎥  ⎢    ⎥⎥ ⎟\n",
       "⎜⎢⎢────⎥, ⎢1/31⎥⎥,⎟\n",
       "⎜⎢⎢ 31 ⎥  ⎢    ⎥⎥ ⎟\n",
       "⎜⎢⎢    ⎥  ⎢ 0  ⎥⎥ ⎟\n",
       "⎜⎢⎢ 1  ⎥  ⎢    ⎥⎥ ⎟\n",
       "⎜⎢⎢    ⎥  ⎣ 1  ⎦⎥ ⎟\n",
       "⎝⎣⎣ 0  ⎦        ⎦ ⎠"
      ]
     },
     "execution_count": 10,
     "metadata": {},
     "output_type": "execute_result"
    }
   ],
   "source": [
    "ker = A.nullspace(),\n",
    "ker"
   ]
  },
  {
   "cell_type": "markdown",
   "metadata": {
    "hidden": false
   },
   "source": [
    "The above matrix is the kernel of T"
   ]
  },
  {
   "cell_type": "markdown",
   "metadata": {},
   "source": [
    "## 6.\n",
    "Determine the image of $T\\text{.}$"
   ]
  },
  {
   "cell_type": "code",
   "execution_count": 11,
   "metadata": {},
   "outputs": [
    {
     "data": {
      "image/png": "[encoded data removed]",
      "text/latex": [
       "$\\displaystyle \\left[ \\left[\\begin{matrix}174\\\\-42\\\\130\\\\-170\\end{matrix}\\right], \\  \\left[\\begin{matrix}-211\\\\52\\\\-158\\\\209\\end{matrix}\\right]\\right]$"
      ],
      "text/plain": [
       "⎡⎡174 ⎤  ⎡-211⎤⎤\n",
       "⎢⎢    ⎥  ⎢    ⎥⎥\n",
       "⎢⎢-42 ⎥  ⎢ 52 ⎥⎥\n",
       "⎢⎢    ⎥, ⎢    ⎥⎥\n",
       "⎢⎢130 ⎥  ⎢-158⎥⎥\n",
       "⎢⎢    ⎥  ⎢    ⎥⎥\n",
       "⎣⎣-170⎦  ⎣209 ⎦⎦"
      ]
     },
     "execution_count": 11,
     "metadata": {},
     "output_type": "execute_result"
    }
   ],
   "source": [
    "im = A.columnspace()\n",
    "im"
   ]
  },
  {
   "cell_type": "markdown",
   "metadata": {
    "hidden": false
   },
   "source": [
    "$\\{\\begin{bmatrix} 174 \\\\ -42 \\\\ 130 \\\\ -170 \\end{bmatrix}, \\begin{bmatrix}-211 \\\\ 52 \\\\-158 \\\\ 209\\end{bmatrix}\\}$ is the image of T"
   ]
  },
  {
   "cell_type": "markdown",
   "metadata": {},
   "source": [
    "## 7.\n",
    "The *Dimension Theorem* states that for a linear transformation $T:V\\to W\\text{,}$ where $V$ is finite-dimensional,\n",
    "$$\n",
    "\\dim V = \\dim\\ker(T)+ \\dim\\operatorname{im}(T)\\text{.}\n",
    "$$\n",
    "\n",
    "Confirm that your results on this worksheet agree with this theorem."
   ]
  },
  {
   "cell_type": "markdown",
   "metadata": {},
   "source": [
    "Yes, our results agree with this theorem because the $\\dim \\ker(T) + \\dim \\operatorname{im}(T) = 4 = \\dim V$"
   ]
  }
 ],
 "metadata": {
  "kernelspec": {
   "display_name": "Python 3 (ipykernel)",
   "language": "python",
   "name": "python3"
  },
  "language_info": {
   "codemirror_mode": {
    "name": "ipython",
    "version": 3
   },
   "file_extension": ".py",
   "mimetype": "text/x-python",
   "name": "python",
   "nbconvert_exporter": "python",
   "pygments_lexer": "ipython3",
   "version": "3.12.8"
  },
  "name": "worksheet-transformations.ipynb"
 },
 "nbformat": 4,
 "nbformat_minor": 4
}
